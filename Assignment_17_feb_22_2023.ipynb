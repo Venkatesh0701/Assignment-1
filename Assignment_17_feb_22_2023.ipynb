{
 "cells": [
  {
   "cell_type": "markdown",
   "id": "7eacbc7b-24bc-464a-8bd7-49ab4d4ade9f",
   "metadata": {},
   "source": [
    "Q1. Write a python program to extract the video URL of the first five videos.\n"
   ]
  },
  {
   "cell_type": "code",
   "execution_count": 5,
   "id": "c34fb9d3-b554-4fbd-9d3e-8b840748daf5",
   "metadata": {},
   "outputs": [],
   "source": [
    "import requests\n",
    "from bs4 import BeautifulSoup\n",
    "from urllib.request import urlopen as uReq\n",
    "import logging\n",
    "import os\n"
   ]
  },
  {
   "cell_type": "code",
   "execution_count": 6,
   "id": "2e21ef04-92e1-4417-b49f-0de5bd0b9d5b",
   "metadata": {},
   "outputs": [],
   "source": [
    "save_dir =\"images/\"\n",
    "if not os.path.exists(save_dir):\n",
    "    os.makedirs(save_dir)"
   ]
  },
  {
   "cell_type": "code",
   "execution_count": 9,
   "id": "8f5bf222-9c51-47a8-a5c5-4449299e0026",
   "metadata": {},
   "outputs": [],
   "source": [
    "query= \"venkatesh shinde\"\n",
    "response= requests.get(\"https://www.youtube.com/watch?v=LuTONVLzESM\")"
   ]
  },
  {
   "cell_type": "code",
   "execution_count": null,
   "id": "3b0a8c1f-c1b3-4b8b-932e-211ddd0bf951",
   "metadata": {},
   "outputs": [],
   "source": [
    "response.content"
   ]
  },
  {
   "cell_type": "markdown",
   "id": "6c86dc71-c045-41fc-9a05-d8f230bcdeca",
   "metadata": {},
   "source": [
    "Q2. Write a python program to extract the URL of the video thumbnails of the first five videos"
   ]
  },
  {
   "cell_type": "code",
   "execution_count": null,
   "id": "65866853-a96f-454a-989d-fefe0980dc97",
   "metadata": {},
   "outputs": [],
   "source": [
    "import cv2\n",
    "import os\n",
    "cam = cv2.VideoCapture(\"https://www.youtube.com/watch?v=LuTONVLzESM\")\n",
    "\n",
    "try:\n",
    "\tif not os.path.exists('data'):\n",
    "\t\tos.makedirs('data')\n",
    "\n",
    "except OSError:\n",
    "\tprint ('Error: Creating directory of data')\n",
    "\n",
    "currentframe = 0\n",
    "\n",
    "while(True):\n",
    "\t\n",
    "\tret,frame = cam.read()\n",
    "\n",
    "\tif ret:\n",
    "\t\tname = './data/frame' + str(currentframe) + '.jpg'\n",
    "\t\tprint ('Creating...' + name)\n",
    "\n",
    "\t\n",
    "\t\tcv2.imwrite(name, frame)\n",
    "\n",
    "\t\t\n",
    "\t\tcurrentframe += 1\n",
    "\telse:\n",
    "\t\tbreak\n",
    "        \n",
    "cam.release()\n",
    "cv2.destroyAllWindows()\n"
   ]
  },
  {
   "cell_type": "markdown",
   "id": "5bc2c801-0f68-474b-b823-92b35dcb4417",
   "metadata": {},
   "source": [
    "Q3. Write a python program to extract the title of the first five videos.\n"
   ]
  },
  {
   "cell_type": "code",
   "execution_count": null,
   "id": "d1a45654-07e6-4ebf-9a6b-8995939923a2",
   "metadata": {},
   "outputs": [],
   "source": [
    "import requests\n",
    "from bs4 import BeautifulSoup\n",
    "\n",
    "url = 'https://www.youtube.com/watch?v=LuTONVLzESM'\n",
    "\n",
    "reqs = requests.get(url)\n",
    "\n",
    "soup = BeautifulSoup(reqs.text, 'html.parser')\n",
    "\n",
    "print(\"Title of the website is : \")\n",
    "for title in soup.find_all('title'):\n",
    "\tprint(title.get_text())\n"
   ]
  },
  {
   "cell_type": "markdown",
   "id": "f65be68f-3e4d-45e8-bb4b-f26d8223d3ab",
   "metadata": {},
   "source": [
    "Q4. Write a python program to extract the number of views of the first five videos.\n"
   ]
  },
  {
   "cell_type": "code",
   "execution_count": null,
   "id": "bc0bc317-8d3a-4577-b75a-a2da611968b1",
   "metadata": {},
   "outputs": [],
   "source": [
    "import requests\n",
    "import json\n",
    "\n",
    "\n",
    "class YTstats:\n",
    "\n",
    "\tdef __init__(self, api_key, channel_id):\n",
    "\t\tself.api_key = api_key\n",
    "\t\tself.channel_id = channel_id\n",
    "\t\tself.channel_statistics = None\n",
    "\n",
    "\tdef get_channel_statistics(self):\n",
    "\t\turl = f'https://www.googleapis.com/youtube/v3/channels?part=statistics&id={self.channel_id}&key={self.api_key}'\n",
    "\n",
    "\t\tjson_url = requests.get(url)\n",
    "\t\tdata = json.loads(json_url.text)\n",
    "\n",
    "\t\ttry:\n",
    "\t\t\tdata = data[\"items\"][0][\"statistics\"]\n",
    "\t\texcept:\n",
    "\t\t\tdata = None\n",
    "\n",
    "\t\tself.channel_statistics = data\n",
    "\t\treturn data\n",
    "\n",
    "\tdef dump(self):\n",
    "\t\tif self.channel_statistics is None:\n",
    "\t\t\treturn\n",
    "\n",
    "\t\tchannel_title = \"Pwskills\"\n",
    "\t\tchannel_title = channel_title.replace(\" \", \"_\").lower()\n",
    "\n",
    "        \n",
    "\t\tfile_name = channel_title + '.json'\n",
    "\t\twith open(file_name, 'w') as f:\n",
    "\t\t\tjson.dump(self.channel_statistics, f, indent=4)\n",
    "\t\tprint('file dumped')\n"
   ]
  },
  {
   "cell_type": "code",
   "execution_count": null,
   "id": "3b182be5-b3b8-48cd-a37a-080a937b5587",
   "metadata": {},
   "outputs": [],
   "source": [
    "Q5. Write a python program to extract the time of posting of video for the first five videos.\n"
   ]
  }
 ],
 "metadata": {
  "kernelspec": {
   "display_name": "Python 3 (ipykernel)",
   "language": "python",
   "name": "python3"
  },
  "language_info": {
   "codemirror_mode": {
    "name": "ipython",
    "version": 3
   },
   "file_extension": ".py",
   "mimetype": "text/x-python",
   "name": "python",
   "nbconvert_exporter": "python",
   "pygments_lexer": "ipython3",
   "version": "3.10.8"
  }
 },
 "nbformat": 4,
 "nbformat_minor": 5
}
