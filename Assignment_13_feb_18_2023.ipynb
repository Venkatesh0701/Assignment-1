{
 "cells": [
  {
   "cell_type": "markdown",
   "id": "955396e4-c122-445d-85c4-838a632c626a",
   "metadata": {},
   "source": [
    "Q1. What is an API? Give an example, where an API is used in real life.\n"
   ]
  },
  {
   "cell_type": "code",
   "execution_count": null,
   "id": "a2d13bdf-c826-4000-b350-b85ac44914c8",
   "metadata": {},
   "outputs": [],
   "source": [
    "'''API stands for application programming interface,\n",
    "   which is a set of definitions and protocols for building and integrating application software.\n",
    "   APIs are used to deliver material by streaming services such as Spotify and Netflix. APIs are used by automakers such as Tesla to provide software upgrades.\n",
    "   Others utilize APIs to make automotive data available to third parties.'''"
   ]
  },
  {
   "cell_type": "markdown",
   "id": "a7661b96-97de-4b0e-b048-d3744c24acc9",
   "metadata": {},
   "source": [
    "Q2. Give advantages and disadvantages of using API."
   ]
  },
  {
   "cell_type": "code",
   "execution_count": null,
   "id": "84d21990-d286-4e20-b876-a73c3f49be4f",
   "metadata": {},
   "outputs": [],
   "source": [
    "'''Advantages:\n",
    "\n",
    "Increased Interoperability: API solutions enable different software systems to communicate with each other, regardless of their programming language or platform. This enhances the interoperability between systems, allowing for the exchange of data and functionality.\n",
    "Improved Efficiency: API driven infrastructures enable developers to reuse code and functionality from existing software systems, saving time and reducing the amount of code that needs to be written from scratch.\n",
    "Better User Experience: APIs can enable third-party developers to create applications that integrate with existing software systems, providing a better user experience and increased functionality.\n",
    "Increased Flexibility: APIs provide developers with greater flexibility, enabling them to choose the best programming languages and frameworks for their needs.\n",
    "New Revenue Streams: APIs can enable companies to create new revenue streams by providing third-party developers with access to their software systems.\n",
    "'''\n",
    "\n",
    "'''Disadvantages:\n",
    "Security Concerns: API infrastructures can be vulnerable to security breaches, such as SQL injection attacks and cross-site scripting (XSS) attacks, making it crucial to implement security measures to protect against these threats.\n",
    "Complexity: APIs can be complex, requiring a significant amount of development effort to implement and maintain.\n",
    "Compatibility Issues: APIs can have compatibility issues between different versions of the same software system or between different systems, which can lead to errors and system failures.\n",
    "Dependency on Third-Party Developers: APIs rely on third-party developers to create applications that integrate with the software system. This can create dependencies that are outside of the control of the company that owns the software system.\n",
    "Governance and Management: APIs require proper governance and management to ensure they are being used correctly and consistently across different applications and systems.\n",
    "'''"
   ]
  },
  {
   "cell_type": "markdown",
   "id": "39b291fb-5fc3-40d2-9afc-be103968bffd",
   "metadata": {},
   "source": [
    "Q3. What is a Web API? Differentiate between API and Web API.\n"
   ]
  },
  {
   "cell_type": "code",
   "execution_count": null,
   "id": "0c76a547-97d9-4752-87a7-fb2738d78b7f",
   "metadata": {},
   "outputs": [],
   "source": [
    "'''API stands for Application Programming Interface. A Web API is an application programming interface for the Web. \n",
    "A Browser API can extend the functionality of a web browser. A Server API can extend the functionality of a web server.'''\n",
    "\n",
    "'''API is an interface that exposes an application's data to outside software, whereas web applications are one type of API with stricter requirements. \n",
    "These requirements include network communication, SOAP as the primary protocol, and less accessibility for the public.'''"
   ]
  },
  {
   "cell_type": "markdown",
   "id": "76e9c44f-9a5f-4a03-8188-41eb9cb105a5",
   "metadata": {},
   "source": [
    "Q4. Explain REST and SOAP Architecture. Mention shortcomings of SOAP.\n"
   ]
  },
  {
   "cell_type": "code",
   "execution_count": null,
   "id": "b0043de6-023f-4416-95f4-fc1b6b5085e4",
   "metadata": {},
   "outputs": [],
   "source": [
    "'''SOAP is difficult to implement and it requires more bandwidth whereas REST is easy to implement and requires less bandwidth such as smartphones.\n",
    "Benefits of SOAP over REST as SOAP has ACID compliance transaction. \n",
    "Some of the applications require transaction ability which is accepted by SOAP whereas REST lacks in it'''\n",
    "\n",
    "\n",
    "SOAP stands for Simple Object Access Protocol and REST stands for Representational State Transfer.\n",
    "Since SOAP is a protocol, it follows a strict standard to allow communication between the client and the server whereas REST is an architectural style that doesn’t follow any strict standard but follows six constraints defined by Roy Fielding in 2000. Those constraints are – Uniform Interface, Client-Server, Stateless, Cacheable, Layered System, Code on Demand.\n",
    "SOAP uses only XML for exchanging information in its message format whereas REST is not restricted to XML and its the choice of implementer which Media-Type to use like XML, JSON, Plain-text. Moreover, REST can use SOAP protocol but SOAP cannot use REST.\n",
    "On behalf of services interfaces to business logic, SOAP uses @WebService whereas REST instead of using interfaces uses URI like @Path.\n",
    "SOAP is difficult to implement and it requires more bandwidth whereas REST is easy to implement and requires less bandwidth such as smartphones.\n",
    "Benefits of SOAP over REST as SOAP has ACID compliance transaction. Some of the applications require transaction ability which is accepted by SOAP whereas REST lacks in it.\n",
    "On the basis of Security, SOAP has SSL( Secure Socket Layer) and WS-security whereas REST has SSL and HTTPS. In the case of Bank Account Password, Card Number, etc. SOAP is preferred over REST. The security issue is all about your application requirement, you have to build security on your own. It’s about what type of protocol you use.\n",
    "SOAP cannot make use of REST since SOAP is a protocol without any architectural pattern. REST can make use of SOAP because it is an architectural pattern having protocol."
   ]
  }
 ],
 "metadata": {
  "kernelspec": {
   "display_name": "Python 3 (ipykernel)",
   "language": "python",
   "name": "python3"
  },
  "language_info": {
   "codemirror_mode": {
    "name": "ipython",
    "version": 3
   },
   "file_extension": ".py",
   "mimetype": "text/x-python",
   "name": "python",
   "nbconvert_exporter": "python",
   "pygments_lexer": "ipython3",
   "version": "3.10.8"
  }
 },
 "nbformat": 4,
 "nbformat_minor": 5
}
