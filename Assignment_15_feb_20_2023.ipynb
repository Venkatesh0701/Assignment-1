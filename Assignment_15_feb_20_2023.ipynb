{
 "cells": [
  {
   "cell_type": "markdown",
   "id": "f962af86-b511-4761-961f-48f903d6b50d",
   "metadata": {},
   "source": [
    "Q1. Explain GET and POST methods.\n"
   ]
  },
  {
   "cell_type": "code",
   "execution_count": null,
   "id": "e3c63ab9-24e7-49ac-8713-4889ac2aa190",
   "metadata": {},
   "outputs": [],
   "source": [
    "'''In GET method we can not send large amount of data rather limited data is sent because the request parameter is appended into the URL.\n",
    "In POST method large amount of data can be sent because the request parameter is appended into the body'''"
   ]
  },
  {
   "cell_type": "markdown",
   "id": "e2836a5c-fbfd-4b45-9e4e-2c6a859a7e71",
   "metadata": {},
   "source": [
    "Q2. Why is request used in Flask?\n"
   ]
  },
  {
   "cell_type": "code",
   "execution_count": null,
   "id": "cb5a70a8-a440-4b57-87e9-10330d0fac63",
   "metadata": {},
   "outputs": [],
   "source": [
    "'''The Flask Request Object is used to perform both sending and \n",
    "receiving operations from a user's browser to the server and process the request data from the server.'''"
   ]
  },
  {
   "cell_type": "markdown",
   "id": "cd8e23c4-b08f-42de-8ef7-ed4da66e0de1",
   "metadata": {},
   "source": [
    "Q3. Why is redirect() used in Flask?\n"
   ]
  },
  {
   "cell_type": "code",
   "execution_count": null,
   "id": "04d4f410-705d-410e-8712-8b82cbb0e849",
   "metadata": {},
   "outputs": [],
   "source": [
    "'''A redirect is used in the Flask class to send the user to a particular URL with the status code. conversely, \n",
    "this status code additionally identifies the issue'''"
   ]
  },
  {
   "cell_type": "markdown",
   "id": "39f14d8c-2d04-49b0-9f69-9301705117ed",
   "metadata": {},
   "source": [
    "Q4. What are templates in Flask? Why is the render_template() function used?\n"
   ]
  },
  {
   "cell_type": "code",
   "execution_count": null,
   "id": "742245f6-6cb9-42ea-9049-3a2e0103521d",
   "metadata": {},
   "outputs": [],
   "source": [
    "'''render_template is a Flask function from the flask. templating package. \n",
    "render_template is used to generate output from a template file based on the Jinja2 engine that is found in the application's templates folder. \n",
    "Note that render_template is typically imported directly from the flask package instead of from flask.'''"
   ]
  },
  {
   "cell_type": "markdown",
   "id": "9feb7433-d17b-4fd1-b90e-980f8436d15c",
   "metadata": {},
   "source": [
    "Q5. Create a simple API. Use Postman to test it. Attach the screenshot of the output in the Jupyter Notebook."
   ]
  },
  {
   "cell_type": "code",
   "execution_count": null,
   "id": "c0ffff3b-a74f-4393-8d0c-f604d3cb8d1e",
   "metadata": {},
   "outputs": [],
   "source": [
    "'''Select APIs in the sidebar and select +.\n",
    "Enter a name for your new API.\n",
    "Select an option for creating your API: Connect to a Git repository and import your API definitions and collections into Postman. ...\n",
    "To start working with your new API: Create a new API definition for your API.\n",
    "'''"
   ]
  }
 ],
 "metadata": {
  "kernelspec": {
   "display_name": "Python 3 (ipykernel)",
   "language": "python",
   "name": "python3"
  },
  "language_info": {
   "codemirror_mode": {
    "name": "ipython",
    "version": 3
   },
   "file_extension": ".py",
   "mimetype": "text/x-python",
   "name": "python",
   "nbconvert_exporter": "python",
   "pygments_lexer": "ipython3",
   "version": "3.10.8"
  }
 },
 "nbformat": 4,
 "nbformat_minor": 5
}
