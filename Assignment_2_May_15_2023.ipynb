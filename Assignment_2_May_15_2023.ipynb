{
 "cells": [
  {
   "cell_type": "markdown",
   "id": "acce19d8-22ec-4a5c-9582-4b1cc98225cf",
   "metadata": {},
   "source": [
    "Q1. How do you comment code in Python? What are the different types of comments?\n"
   ]
  },
  {
   "cell_type": "code",
   "execution_count": null,
   "id": "98705915-e97f-45ff-bc09-63f3b1034681",
   "metadata": {},
   "outputs": [
    {
     "name": "stdout",
     "output_type": "stream",
     "text": [
      "This is single line comment\n",
      "This is multiline comment\n"
     ]
    }
   ],
   "source": [
    "#There are two types of comment in python\n",
    " #1. single line comment  \n",
    " #2. multi line comment\n",
    "\n",
    "#single line comment:\n",
    "#This is comment\n",
    "print(\"This is single line comment\")\n",
    "\n",
    "#2. multi line comment\n",
    "'''This is a\n",
    "multiline comment with \n",
    "the help of mutili line string'''\n",
    "print(\"This is multiline comment\")\n",
    "\n"
   ]
  },
  {
   "cell_type": "markdown",
   "id": "697cde92-04f3-4716-bac2-e3e908ac2942",
   "metadata": {},
   "source": [
    "Q2. What are variables in Python? How do you declare and assign values to variables?\n"
   ]
  },
  {
   "cell_type": "code",
   "execution_count": 33,
   "id": "24f2fe80-991b-40a8-a78f-cbaaf1319bdc",
   "metadata": {},
   "outputs": [
    {
     "name": "stdout",
     "output_type": "stream",
     "text": [
      "3\n",
      "Venkatesh\n"
     ]
    }
   ],
   "source": [
    "#Variables are containers for storing data values.\n",
    "#example:\n",
    "x = 3\n",
    "y = \"Venkatesh\"\n",
    "print(x)\n",
    "print(y)"
   ]
  },
  {
   "cell_type": "markdown",
   "id": "e875f1de-1d1c-4ae1-a003-d2f8d1464204",
   "metadata": {},
   "source": [
    "Q3. How do you convert one data type to another in Python?\n"
   ]
  },
  {
   "cell_type": "code",
   "execution_count": 8,
   "id": "051da2fb-554b-4023-b4cb-c4250beea3c7",
   "metadata": {},
   "outputs": [
    {
     "name": "stdout",
     "output_type": "stream",
     "text": [
      "<class 'int'>\n",
      "<class 'float'>\n",
      "6.0\n",
      "<class 'float'>\n"
     ]
    }
   ],
   "source": [
    "a = 5\n",
    "print(type(a))\n",
    "\n",
    "b = 1.0\n",
    "print(type(b))\n",
    "\n",
    "c = a+b\n",
    "print(c)\n",
    "print(type(c))\n"
   ]
  },
  {
   "cell_type": "markdown",
   "id": "936e4aea-df85-4ea0-b9af-f3a59ac576a3",
   "metadata": {},
   "source": [
    "Q4. How do you write and execute a Python script from the command line?\n"
   ]
  },
  {
   "cell_type": "code",
   "execution_count": null,
   "id": "95cb2f5d-f393-465c-ae3d-b01980bb9633",
   "metadata": {},
   "outputs": [],
   "source": [
    "python sample.py\n",
    "Hello World!"
   ]
  },
  {
   "cell_type": "markdown",
   "id": "be04d259-b735-40d8-9feb-4fb77c1f6610",
   "metadata": {},
   "source": [
    "Q5. Given a list my_list = [1, 2, 3, 4, 5], write the code to slice the list and obtain the sub-list [2, 3].\n"
   ]
  },
  {
   "cell_type": "code",
   "execution_count": 15,
   "id": "adde69e3-c5a1-42c6-bf81-ce4486e52524",
   "metadata": {},
   "outputs": [
    {
     "data": {
      "text/plain": [
       "[2, 3]"
      ]
     },
     "execution_count": 15,
     "metadata": {},
     "output_type": "execute_result"
    }
   ],
   "source": [
    "my_list= [1, 2, 3, 4, 5]\n",
    "my_list[1:3]"
   ]
  },
  {
   "cell_type": "markdown",
   "id": "69e333ed-9eea-44cd-bf24-0b08999c2fa8",
   "metadata": {},
   "source": [
    "Q6. What is a complex number in mathematics, and how is it represented in Python?\n"
   ]
  },
  {
   "cell_type": "code",
   "execution_count": 20,
   "id": "388678d3-46c9-44c2-8164-fd740c963624",
   "metadata": {},
   "outputs": [
    {
     "data": {
      "text/plain": [
       "complex"
      ]
     },
     "execution_count": 20,
     "metadata": {},
     "output_type": "execute_result"
    }
   ],
   "source": [
    "#complex number is combination os real and imaginary number \n",
    "#example:\n",
    "v=5+ 8J\n",
    "type(v)"
   ]
  },
  {
   "cell_type": "markdown",
   "id": "06445fae-9052-4aa4-9b15-7abc9afad8dd",
   "metadata": {},
   "source": [
    "Q7. What is the correct way to declare a variable named age and assign the value 25 to it?\n"
   ]
  },
  {
   "cell_type": "code",
   "execution_count": 21,
   "id": "9ad1827c-3a53-4610-ae1b-20b39a35b2cf",
   "metadata": {},
   "outputs": [
    {
     "name": "stdout",
     "output_type": "stream",
     "text": [
      "25\n"
     ]
    }
   ],
   "source": [
    "age=25\n",
    "print(age)"
   ]
  },
  {
   "cell_type": "markdown",
   "id": "d8fcff11-0f76-41dd-88aa-04afcb65b509",
   "metadata": {},
   "source": [
    "Q8. Declare a variable named price and assign the value 9.99 to it. What data type does this variable\n",
    "belong to?\n"
   ]
  },
  {
   "cell_type": "code",
   "execution_count": 22,
   "id": "c8010c22-cfad-4476-bc2b-bd94ea7a84f6",
   "metadata": {},
   "outputs": [
    {
     "data": {
      "text/plain": [
       "float"
      ]
     },
     "execution_count": 22,
     "metadata": {},
     "output_type": "execute_result"
    }
   ],
   "source": [
    "price=9.99\n",
    "type(price)"
   ]
  },
  {
   "cell_type": "markdown",
   "id": "dc8947f6-8ea8-49f9-9c45-b9af7c1627de",
   "metadata": {},
   "source": [
    "Q9. Create a variable named name and assign your full name to it as a string. How would you print the\n",
    "value of this variable?\n"
   ]
  },
  {
   "cell_type": "code",
   "execution_count": 23,
   "id": "85709312-e833-4590-871e-6d229f6ef54d",
   "metadata": {},
   "outputs": [
    {
     "name": "stdout",
     "output_type": "stream",
     "text": [
      "Venkatesh santosh shinde\n"
     ]
    }
   ],
   "source": [
    "name=\"Venkatesh santosh shinde\"\n",
    "print(name)"
   ]
  },
  {
   "cell_type": "markdown",
   "id": "f0e3cae2-f305-45bf-8017-3aae9584d9a4",
   "metadata": {},
   "source": [
    "Q10. Given the string \"Hello, World!\", extract the substring \"World\".\n"
   ]
  },
  {
   "cell_type": "code",
   "execution_count": 27,
   "id": "c78b7c7e-10f1-4cdd-9d1b-1834706e1727",
   "metadata": {},
   "outputs": [
    {
     "name": "stdout",
     "output_type": "stream",
     "text": [
      "Hello,World!\n"
     ]
    },
    {
     "data": {
      "text/plain": [
       "'World'"
      ]
     },
     "execution_count": 27,
     "metadata": {},
     "output_type": "execute_result"
    }
   ],
   "source": [
    "s=\"Hello,World!\"\n",
    "print(s)\n",
    "s[6:11]"
   ]
  },
  {
   "cell_type": "markdown",
   "id": "af3d5f12-6c07-4910-bd56-d77cd622338f",
   "metadata": {},
   "source": [
    "Q11. Create a variable named \"is_student\" and assign it a boolean value indicating whether you are\n",
    "currently a student or not."
   ]
  },
  {
   "cell_type": "code",
   "execution_count": 32,
   "id": "88f98766-6c78-4c6c-aa0a-e87f44055907",
   "metadata": {},
   "outputs": [
    {
     "name": "stdout",
     "output_type": "stream",
     "text": [
      "True\n"
     ]
    }
   ],
   "source": [
    "is_student=True\n",
    "print(is_student)"
   ]
  }
 ],
 "metadata": {
  "kernelspec": {
   "display_name": "Python 3 (ipykernel)",
   "language": "python",
   "name": "python3"
  },
  "language_info": {
   "codemirror_mode": {
    "name": "ipython",
    "version": 3
   },
   "file_extension": ".py",
   "mimetype": "text/x-python",
   "name": "python",
   "nbconvert_exporter": "python",
   "pygments_lexer": "ipython3",
   "version": "3.10.8"
  }
 },
 "nbformat": 4,
 "nbformat_minor": 5
}
