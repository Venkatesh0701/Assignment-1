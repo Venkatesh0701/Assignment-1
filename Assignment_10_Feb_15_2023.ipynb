{
 "cells": [
  {
   "cell_type": "markdown",
   "id": "52e27009-4b83-4ba3-b889-e08aa8bbe0f0",
   "metadata": {},
   "source": [
    "Q1. What is multiprocessing in python? Why is it useful?"
   ]
  },
  {
   "cell_type": "code",
   "execution_count": 1,
   "id": "9d87c0fa-bd61-4bfd-b844-1f396ddb11cb",
   "metadata": {},
   "outputs": [
    {
     "data": {
      "text/plain": [
       "'Multiprocessing refers to running multiple processes simultaneously, which can be incredibly useful for speeding up your code and handling large datasets and tasks. \\nFor example, running an operation in parallel can divide a job into several smaller parts that can be processed simultaneously.'"
      ]
     },
     "execution_count": 1,
     "metadata": {},
     "output_type": "execute_result"
    }
   ],
   "source": [
    "'''Multiprocessing refers to running multiple processes simultaneously, which can be incredibly useful for speeding up your code and handling large datasets and tasks. \n",
    "For example, running an operation in parallel can divide a job into several smaller parts that can be processed simultaneously.'''"
   ]
  },
  {
   "cell_type": "markdown",
   "id": "72151d81-e71d-423b-b2a3-ca6ba298d758",
   "metadata": {},
   "source": [
    "Q2. What are the differences between multiprocessing and multithreading?\n"
   ]
  },
  {
   "cell_type": "code",
   "execution_count": 2,
   "id": "d114154c-50a7-457f-8860-8a32bba6d1cc",
   "metadata": {},
   "outputs": [
    {
     "data": {
      "text/plain": [
       "'Multiprocessing uses two or more CPUs to increase computing power, whereas multithreading uses a single process with multiple code segments to increase computing power.\\nMultithreading focuses on generating computing threads from a single process, whereas multiprocessing increases computing power by adding CPUs.\\nMultiprocessing is used to create a more reliable system, whereas multithreading is used to create threads that run parallel to each other.\\nmultithreading is quick to create and requires few resources, whereas multiprocessing requires a significant amount of time and specific resources to create.\\nMultiprocessing executes many processes simultaneously, whereas multithreading executes many threads simultaneously.\\nMultithreading uses a common address space for all the threads, whereas multiprocessing creates a separate address space for each process.'"
      ]
     },
     "execution_count": 2,
     "metadata": {},
     "output_type": "execute_result"
    }
   ],
   "source": [
    "'''Multiprocessing uses two or more CPUs to increase computing power, whereas multithreading uses a single process with multiple code segments to increase computing power.\n",
    "Multithreading focuses on generating computing threads from a single process, whereas multiprocessing increases computing power by adding CPUs.\n",
    "Multiprocessing is used to create a more reliable system, whereas multithreading is used to create threads that run parallel to each other.\n",
    "multithreading is quick to create and requires few resources, whereas multiprocessing requires a significant amount of time and specific resources to create.\n",
    "Multiprocessing executes many processes simultaneously, whereas multithreading executes many threads simultaneously.\n",
    "Multithreading uses a common address space for all the threads, whereas multiprocessing creates a separate address space for each process.'''"
   ]
  },
  {
   "cell_type": "markdown",
   "id": "24296361-13f1-4e3e-82b0-8e514a17ab0a",
   "metadata": {},
   "source": [
    "Q3. Write a python code to create a process using the multiprocessing module.\n"
   ]
  },
  {
   "cell_type": "code",
   "execution_count": 3,
   "id": "cf961d25-dc75-4902-85c1-b077252bce74",
   "metadata": {},
   "outputs": [
    {
     "name": "stdout",
     "output_type": "stream",
     "text": [
      "this is my main program\n",
      "this is my mutiprocessing program\n"
     ]
    }
   ],
   "source": [
    "import multiprocessing\n",
    "def test():\n",
    "    print(\"this is my mutiprocessing program\")\n",
    "    \n",
    "if __name__ == '__main__' :\n",
    "    m= multiprocessing.Process(target=test)\n",
    "    print(\"this is my main program\")\n",
    "    m.start()\n",
    "    m.join()"
   ]
  },
  {
   "cell_type": "code",
   "execution_count": 4,
   "id": "fd6b88dd-8732-4e6d-b3f3-cf6fb639b668",
   "metadata": {},
   "outputs": [
    {
     "name": "stdout",
     "output_type": "stream",
     "text": [
      "this is my mutiprocessing program\n"
     ]
    }
   ],
   "source": [
    "test()"
   ]
  },
  {
   "cell_type": "markdown",
   "id": "11c0c23d-dcf7-4696-ab90-d0ed54c78626",
   "metadata": {},
   "source": [
    "Q5. How can we create a pool of worker processes in python using the multiprocessing module?\n"
   ]
  },
  {
   "cell_type": "code",
   "execution_count": 5,
   "id": "975e83cc-a138-496f-8425-ade059437ef1",
   "metadata": {},
   "outputs": [
    {
     "name": "stdout",
     "output_type": "stream",
     "text": [
      "[1, 4, 9, 16, 25, 36, 36, 6084, 81]\n"
     ]
    }
   ],
   "source": [
    "#multiprocessing with pool\n",
    "def square(n):\n",
    "    return n**2\n",
    "\n",
    "if __name__ == '__main__':\n",
    "    with multiprocessing.Pool(processes=1) as pool:\n",
    "        out=pool.map(square,[1,2,3,4,5,6,6,78,9])\n",
    "        print(out)"
   ]
  },
  {
   "cell_type": "markdown",
   "id": "1119cb70-5546-4f12-91b7-084aaf3f4148",
   "metadata": {},
   "source": [
    "Q6. Write a python program to create 4 processes, each process should print a different number using the\n",
    "multiprocessing module in python."
   ]
  },
  {
   "cell_type": "code",
   "execution_count": null,
   "id": "0e52aec7-61f6-4bed-b9c8-f273f15a8870",
   "metadata": {},
   "outputs": [
    {
     "name": "stdout",
     "output_type": "stream",
     "text": [
      "0\n",
      "1\n",
      "2\n",
      "3\n",
      "4\n",
      "5\n",
      "6\n",
      "7\n",
      "8\n",
      "9\n",
      "sudh\n"
     ]
    }
   ],
   "source": [
    "def producer(q):\n",
    "    for i in range(10):\n",
    "        q.put(i)\n",
    "    \n",
    "def consume(q):\n",
    "    while True:\n",
    "        item= q.get()\n",
    "        if item is None:\n",
    "            break\n",
    "        print(item)\n",
    "        \n",
    "if  __name__ == '__main__':\n",
    "    queue= multiprocessing.Queue()\n",
    "    m1=multiprocessing.Process(target=producer, args= (queue,))\n",
    "    m2=multiprocessing.Process(target=consume, args= (queue,))\n",
    "    m1.start()\n",
    "    m2.start()\n",
    "    queue.put(\"sudh\")\n",
    "    m1.join()\n",
    "    m2.join()"
   ]
  }
 ],
 "metadata": {
  "kernelspec": {
   "display_name": "Python 3 (ipykernel)",
   "language": "python",
   "name": "python3"
  },
  "language_info": {
   "codemirror_mode": {
    "name": "ipython",
    "version": 3
   },
   "file_extension": ".py",
   "mimetype": "text/x-python",
   "name": "python",
   "nbconvert_exporter": "python",
   "pygments_lexer": "ipython3",
   "version": "3.10.8"
  }
 },
 "nbformat": 4,
 "nbformat_minor": 5
}
