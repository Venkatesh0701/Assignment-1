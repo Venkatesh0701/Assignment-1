{
 "cells": [
  {
   "cell_type": "markdown",
   "id": "a206ef80-6a61-418f-802b-99a2ba36967a",
   "metadata": {},
   "source": [
    "Q1. What is a database? Differentiate between SQL and NoSQL databases.\n"
   ]
  },
  {
   "cell_type": "code",
   "execution_count": null,
   "id": "0d9d6183-3604-4244-ad5e-2c43162efe35",
   "metadata": {},
   "outputs": [],
   "source": [
    "'''Database is collection of related data and database is used to store the information useful for an organisation.\n",
    "   SQL databases are table-based, while NoSQL databases are document, key-value, graph, or wide-column stores.\n",
    "   SQL databases are better for multi-row transactions, while NoSQL is better for unstructured data like documents or JSON'''"
   ]
  },
  {
   "cell_type": "markdown",
   "id": "27481768-7f39-4fe5-9b12-f3c0fc1e2c8b",
   "metadata": {},
   "source": [
    "Q2. What is DDL? Explain why CREATE, DROP, ALTER, and TRUNCATE are used with an example.\n"
   ]
  },
  {
   "cell_type": "code",
   "execution_count": null,
   "id": "02144069-00bc-4abc-9479-ea31da7e5351",
   "metadata": {},
   "outputs": [],
   "source": [
    "'''database schema is specified by set of definitions expressed by using a special language called as DDL.\n",
    "   DDL commands provides facilities to define schema modification of schema ,deletion of schema etc.following are the DDL commands.'''\n",
    "'''1.create\n",
    "   2.Alter\n",
    "   3.drop\n",
    "   4.descibe\n",
    "   5.turncate\n",
    "   6.rename'''\n"
   ]
  },
  {
   "cell_type": "code",
   "execution_count": null,
   "id": "523d100b-f52a-41c3-a9d7-5fd7792c53a3",
   "metadata": {},
   "outputs": [],
   "source": [
    "#1.create:\n",
    "create table student(roll_no number(2),name varchar(15),marks number(2))"
   ]
  },
  {
   "cell_type": "code",
   "execution_count": null,
   "id": "1359e3ae-7064-4e85-a7e3-cb97aea4cd18",
   "metadata": {},
   "outputs": [],
   "source": [
    "#2.Alter : add,modify,delete\n",
    "alter table student add(enrollno number(10));\n",
    "alter table student modify(enrollno number(10)primary key);\n",
    "alter table student drop name;"
   ]
  },
  {
   "cell_type": "code",
   "execution_count": null,
   "id": "4d63c024-55f0-4ecd-9e44-f209d2ec5972",
   "metadata": {},
   "outputs": [],
   "source": [
    "#drop:\n",
    "drop table student;"
   ]
  },
  {
   "cell_type": "code",
   "execution_count": null,
   "id": "630257e2-2775-438a-bef6-d740a42c9a3f",
   "metadata": {},
   "outputs": [],
   "source": [
    "#descibe:\n",
    "desc student;"
   ]
  },
  {
   "cell_type": "code",
   "execution_count": null,
   "id": "823d6890-3d6c-4742-a5c9-007fa971046c",
   "metadata": {},
   "outputs": [],
   "source": [
    "#truncate:\n",
    "truncate table student;"
   ]
  },
  {
   "cell_type": "code",
   "execution_count": null,
   "id": "d7bdcfc4-aeb8-4c26-83ec-85d380324d66",
   "metadata": {},
   "outputs": [],
   "source": [
    "#rename:\n",
    "rename student to student_info;"
   ]
  },
  {
   "cell_type": "markdown",
   "id": "6183d229-01c4-4395-90a4-f3a9db2fb5c5",
   "metadata": {},
   "source": [
    "Q3. What is DML? Explain INSERT, UPDATE, and DELETE with an example.\n"
   ]
  },
  {
   "cell_type": "code",
   "execution_count": null,
   "id": "132b8dee-cc69-4101-abd9-ea4dfb77fa64",
   "metadata": {},
   "outputs": [],
   "source": [
    "'''DML commands are applicable for the manipulation of the data or records it has following commands.\n",
    "  1.insert\n",
    "  2.update\n",
    "  3.delete'''"
   ]
  },
  {
   "cell_type": "code",
   "execution_count": null,
   "id": "7201e144-6626-44da-9ecb-b96772e5c15a",
   "metadata": {},
   "outputs": [],
   "source": [
    "#1.insert\n",
    "insert into student_info values(1,'venkatesh',30);"
   ]
  },
  {
   "cell_type": "code",
   "execution_count": null,
   "id": "b206c69b-988f-4912-abe5-a9007e9e15df",
   "metadata": {},
   "outputs": [],
   "source": [
    "#2.update\n",
    "update student_info\n",
    "set marks= marks+10;"
   ]
  },
  {
   "cell_type": "code",
   "execution_count": null,
   "id": "60116f44-a172-4e9d-b6ac-571d9fdd951e",
   "metadata": {},
   "outputs": [],
   "source": [
    "#3.delete\n",
    "delete * from student;"
   ]
  },
  {
   "cell_type": "markdown",
   "id": "e81cc20d-4da3-43d3-ae5e-2ee94a749f20",
   "metadata": {},
   "source": [
    "Q4. What is DQL? Explain SELECT with an example.\n"
   ]
  },
  {
   "cell_type": "code",
   "execution_count": null,
   "id": "572ab9ca-78c4-43a2-b5b5-8e3c462e865f",
   "metadata": {},
   "outputs": [],
   "source": [
    "'''when we want to retrive or access data from the database data query language is used select command comes under DQL'''\n",
    "select * from student_info where marks>40;"
   ]
  },
  {
   "cell_type": "markdown",
   "id": "a0eb31b0-5284-40be-9e32-666cac103cad",
   "metadata": {},
   "source": [
    "Q5. Explain Primary Key and Foreign Key.\n"
   ]
  },
  {
   "cell_type": "code",
   "execution_count": null,
   "id": "9fca7564-bea6-4404-95a0-88a498abf77b",
   "metadata": {},
   "outputs": [],
   "source": [
    "'''primary key: from a relation only one attribute is used for unique identification of records \n",
    "   then that attribute become primay key of that relation when we select an attribute as a primary key \n",
    "   then it satisfyies two conditions.\n",
    "   1.no duplicate or redundancy for attribute value\n",
    "   2.no null values for the attribute\n",
    "   \n",
    "   example: create table student (rollno number(10)primary key ,name varchar(10));\n",
    "'''\n",
    "\n",
    "'''foreign key: A attribute or set of attribute of relation such that every  attribute value in this set is primary key of same relation\n",
    "   or another relation.\n",
    "   \n",
    "   example: CREATE TABLE Department (  \n",
    "            Dept_name varchar (120) NOT NULL,  \n",
    "            Stud_Id int,  \n",
    "            FOREIGN KEY (Stud_Id) REFERENCES Student (Stud_Id)  \n",
    ");  \n",
    "\n",
    "'''"
   ]
  },
  {
   "cell_type": "markdown",
   "id": "ed2f654d-487f-4043-bd87-f839c949818b",
   "metadata": {},
   "source": [
    "Q6. Write a python code to connect MySQL to python. Explain the cursor() and execute() method.\n"
   ]
  },
  {
   "cell_type": "code",
   "execution_count": null,
   "id": "3c50efa2-a478-4dde-b12e-17958ac3a400",
   "metadata": {},
   "outputs": [],
   "source": [
    "import mysql.connector\n",
    "mydb = mysql.connector.connect(\n",
    "  host=\"localhost\",\n",
    "  user=\"abc\",\n",
    "  password=\"password\"\n",
    ")\n",
    "print(mydb)\n",
    "mycursor = mydb.cursor()\n",
    "mycursor.execute(\"SHOW DATABASES\")\n",
    "for x in mycursor:\n",
    "  print(x)"
   ]
  },
  {
   "cell_type": "code",
   "execution_count": null,
   "id": "ed4b3755-b9da-4807-99ee-d88b68368f4d",
   "metadata": {},
   "outputs": [],
   "source": [
    "'''A cursor is an object which helps to execute the query and fetch the records from the database.\n",
    "The cursor plays a very important role in executing the query. \n",
    "This article will learn some deep information about the execute methods and how to use those methods in python.'''"
   ]
  },
  {
   "cell_type": "markdown",
   "id": "0b0460f3-fec8-4278-9789-0c100f70d2db",
   "metadata": {},
   "source": [
    "Q7. Give the order of execution of SQL clauses in an SQL query."
   ]
  },
  {
   "cell_type": "code",
   "execution_count": null,
   "id": "39d7cedf-c0ec-45df-981e-9539ba49b2a8",
   "metadata": {},
   "outputs": [],
   "source": [
    "'''FROM\t- Tables are joined to get the base data.\n",
    "   WHERE\tThe base data is filtered.\n",
    "   GROUP BY-\tThe filtered base data is grouped.\n",
    "   HAVING-\tThe grouped base data is filtered.\n",
    "   ORDER BY-The final data is sorted.'''"
   ]
  }
 ],
 "metadata": {
  "kernelspec": {
   "display_name": "Python 3 (ipykernel)",
   "language": "python",
   "name": "python3"
  },
  "language_info": {
   "codemirror_mode": {
    "name": "ipython",
    "version": 3
   },
   "file_extension": ".py",
   "mimetype": "text/x-python",
   "name": "python",
   "nbconvert_exporter": "python",
   "pygments_lexer": "ipython3",
   "version": "3.10.8"
  }
 },
 "nbformat": 4,
 "nbformat_minor": 5
}
