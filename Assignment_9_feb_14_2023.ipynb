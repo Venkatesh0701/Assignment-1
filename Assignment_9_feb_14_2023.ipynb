{
 "cells": [
  {
   "cell_type": "markdown",
   "id": "25158307-c63c-41bd-99e0-357da362b327",
   "metadata": {},
   "source": [
    "Q1.what is multithreading in python? why is it used? Name the module used to handle thread in python"
   ]
  },
  {
   "cell_type": "code",
   "execution_count": null,
   "id": "917b6ed0-c0d3-4abf-ae2e-ae5fc20fd0e2",
   "metadata": {},
   "outputs": [],
   "source": [
    "'''A thread is a single sequential flow of execution of tasks of a process so it is also known as thread of execution or thread of control. \n",
    "Multithreading in Python is a popular technique that enables multiple tasks to be executed simultaneously.'''\n",
    "'''The threading module is a high-level implementation of multithreading used to deploy an application in Python. \n",
    "To use multithreading, we need to import the threading module in Python Program. \n",
    "A start() method is used to initiate the activity of a thread.'''"
   ]
  },
  {
   "cell_type": "code",
   "execution_count": 1,
   "id": "8e79e510-296a-484c-8bda-ed8509e31039",
   "metadata": {},
   "outputs": [],
   "source": [
    "import threading"
   ]
  },
  {
   "cell_type": "code",
   "execution_count": 2,
   "id": "09be36ea-2fca-4d21-91f6-b8cdca1d5468",
   "metadata": {},
   "outputs": [],
   "source": [
    "def test(id):\n",
    "    print(\"program start %d\" %id)"
   ]
  },
  {
   "cell_type": "code",
   "execution_count": 3,
   "id": "4014baf0-6989-4c06-928a-80e921fea295",
   "metadata": {},
   "outputs": [],
   "source": [
    "thread = [threading.Thread(target=test ,args=(i,)) for i in range(10)]"
   ]
  },
  {
   "cell_type": "code",
   "execution_count": 5,
   "id": "5ad4c5c4-52d1-42ca-bed9-60324dcd1706",
   "metadata": {},
   "outputs": [
    {
     "name": "stdout",
     "output_type": "stream",
     "text": [
      "program start 0\n",
      "program start 1\n",
      "program start 2\n",
      "program start 3\n",
      "program start 4\n",
      "program start 5\n",
      "program start 6\n",
      "program start 7\n",
      "program start 8\n",
      "program start 9\n"
     ]
    }
   ],
   "source": [
    "for t in thread:\n",
    "    t.start()"
   ]
  },
  {
   "cell_type": "markdown",
   "id": "725d09f2-ff67-46c7-ab65-2e00d72ea64f",
   "metadata": {},
   "source": [
    "Q2.why threading module used? write the use of the following functions:\n",
    "    1.activeCount()\n",
    "    2.currentThread()\n",
    "    3.enumerate()"
   ]
  },
  {
   "cell_type": "code",
   "execution_count": null,
   "id": "0eec7ed1-8448-4acc-aa55-2f726ae98632",
   "metadata": {},
   "outputs": [],
   "source": [
    "'''threading.activeCount() − Returns the number of thread objects that are active.\n",
    "threading.currentThread() − Returns the number of thread objects in the caller's thread control.\n",
    "threading.enumerate() − Returns a list of all thread objects that are currently active.'''"
   ]
  },
  {
   "cell_type": "markdown",
   "id": "3dd48364-902a-4b7b-96df-010c2097c068",
   "metadata": {},
   "source": [
    "Q3.explain the following functions:\n",
    "    1.run()\n",
    "    2.start()\n",
    "    3.join()\n",
    "    4.isAlive()"
   ]
  },
  {
   "cell_type": "code",
   "execution_count": null,
   "id": "1db749c9-6bca-43d8-bb54-f619a91de70b",
   "metadata": {},
   "outputs": [],
   "source": [
    "'''run() − The run() method is the entry point for a thread.\n",
    "\n",
    "start() − The start() method starts a thread by calling the run method.\n",
    "\n",
    "join([time]) − The join() waits for threads to terminate.\n",
    "\n",
    "isAlive() − The isAlive() method checks whether a thread is still executing.'''\n"
   ]
  },
  {
   "cell_type": "code",
   "execution_count": 10,
   "id": "47a89c70-15f3-4419-a2bf-36a7e67e3a75",
   "metadata": {},
   "outputs": [
    {
     "name": "stdout",
     "output_type": "stream",
     "text": [
      "program start 0\n",
      "program start 1\n",
      "program start 2\n",
      "program start 3\n",
      "program start 4\n",
      "program start 5\n",
      "program start 6\n",
      "program start 7\n",
      "program start 8\n",
      "program start 9\n"
     ]
    }
   ],
   "source": [
    "import threading\n",
    "def test(id):\n",
    "    print(\"program start %d\" %id)\n",
    "thread = [threading.Thread(target=test ,args=(i,)) for i in range(10)]\n",
    "for t in thread:\n",
    "    t.start()"
   ]
  },
  {
   "cell_type": "markdown",
   "id": "455ad65e-47ce-41ad-a8da-d05160018279",
   "metadata": {},
   "source": [
    "Q4.write a python program to create two threads.Thread one must print the list of squares and thread two must print the list of cubes."
   ]
  },
  {
   "cell_type": "code",
   "execution_count": 12,
   "id": "dfb6f717-fc0b-4042-8a5f-b223def67ef6",
   "metadata": {},
   "outputs": [
    {
     "name": "stdout",
     "output_type": "stream",
     "text": [
      "Square: 100\n",
      "Cube: 1000\n"
     ]
    }
   ],
   "source": [
    "import threading\n",
    "def print_cube(num):\n",
    "    print(\"Cube: {}\" .format(num * num * num))\n",
    " \n",
    " \n",
    "def print_square(num):\n",
    "    print(\"Square: {}\" .format(num * num))\n",
    " \n",
    " \n",
    "if __name__ ==\"__main__\":\n",
    "    t1 = threading.Thread(target=print_square, args=(10,))\n",
    "    t2 = threading.Thread(target=print_cube, args=(10,))\n",
    "                          \n",
    "    t1.start()\n",
    "    t2.start()\n",
    "    t1.join()\n",
    "    t2.join()"
   ]
  },
  {
   "cell_type": "markdown",
   "id": "2a4290c7-cbca-451b-a468-4d1c21acf883",
   "metadata": {},
   "source": [
    "Q5.state advantages and disadvantages of multithreading"
   ]
  },
  {
   "cell_type": "code",
   "execution_count": null,
   "id": "34f6d6c5-5f54-41dc-bf9d-9e720b11abea",
   "metadata": {},
   "outputs": [],
   "source": [
    "'''Advantages:\n",
    "Since by multithreading multiple executions are carried out in the same process environment to a large degree independent of one other Multithreading assist the applications to perform and respond better.\n",
    "The operations can be completely interrupting driven.\n",
    "The processor utilization is inferior through multithreading. Thus the power consumption is decreased to a great extend.\n",
    "Multithreading is helpful in applications that must processes very large amount of data.'''\n",
    "\n",
    "'''Disadvantages:\n",
    "Since the threads are sharing the similar address area and can access the resources like open files problems can take place if different threads use different data structures.\n",
    "If a parent process has multiple threads for suitable process functioning the child processes also should be multithreaded since all of them may be essential.'''\n"
   ]
  },
  {
   "cell_type": "markdown",
   "id": "c16f0acf-d9f2-464e-b93b-ea4b63bad29a",
   "metadata": {},
   "source": [
    "Q6.explain deadlock and race condition."
   ]
  },
  {
   "cell_type": "code",
   "execution_count": null,
   "id": "f16e5836-a557-4baa-958a-8aaee2b0e8db",
   "metadata": {},
   "outputs": [],
   "source": []
  }
 ],
 "metadata": {
  "kernelspec": {
   "display_name": "Python 3 (ipykernel)",
   "language": "python",
   "name": "python3"
  },
  "language_info": {
   "codemirror_mode": {
    "name": "ipython",
    "version": 3
   },
   "file_extension": ".py",
   "mimetype": "text/x-python",
   "name": "python",
   "nbconvert_exporter": "python",
   "pygments_lexer": "ipython3",
   "version": "3.10.8"
  }
 },
 "nbformat": 4,
 "nbformat_minor": 5
}
