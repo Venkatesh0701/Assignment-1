{
 "cells": [
  {
   "cell_type": "markdown",
   "id": "1b96aab4-0bb4-4cdc-b211-6c570b6b00ee",
   "metadata": {},
   "source": [
    "Q1. What is Flask Framework? What are the advantages of Flask Framework?\n"
   ]
  },
  {
   "cell_type": "code",
   "execution_count": null,
   "id": "3896d86b-598a-46fd-a0ac-a18603e3a5f2",
   "metadata": {},
   "outputs": [],
   "source": [
    "'''Flask is a web framework. Flask allows you to build a web application by providing tools, libraries, and technologies. \n",
    "This web application will be a web page, a wiki, or a big web-based calendar application or commercial website. \n",
    "Flask is classified into a micro-framework that means it has little to no dependencies on external libraries.\n",
    "There are some pros and cons. Pros mean there are little dependencies to upgrade and to watch security bugs and \n",
    "cons means by adding the plugin you will increase the dependencies'''\n",
    "\n",
    "#advantages:\n",
    "'''It is a lightweight framework that offers hassle-free development.\n",
    "Provide flexibility to the developer to experiment with their modules or architecture.\n",
    "It is suitable for small projects.\n",
    "Offers a built-in development server and fast debugger.\n",
    "Easily scalable for the applications.\n",
    "Support for secure cookies.'''"
   ]
  },
  {
   "cell_type": "markdown",
   "id": "2f216ee1-0feb-42f2-9830-e33cf79613f4",
   "metadata": {},
   "source": [
    "Q2. Create a simple Flask application to display ‘Hello World!!’. Attach the screenshot of the output in\n",
    "Jupyter Notebook.\n"
   ]
  },
  {
   "cell_type": "code",
   "execution_count": null,
   "id": "d8db814f-9f66-4630-9e34-588d67a08ee2",
   "metadata": {},
   "outputs": [],
   "source": [
    "from flask import Flask\n",
    "\n",
    "app = Flask(__name__)\n",
    "\n",
    "@app.route(\"/\")\n",
    "def hello_world():\n",
    "    return \"<h1>Hello, World!</h1>\"\n",
    "\n",
    "if __name__==\"__main__\":\n",
    "    app.run(host=\"0.0.0.0\")\n",
    "    \n",
    "    \n"
   ]
  },
  {
   "cell_type": "markdown",
   "id": "c2e8edc1-c4d2-43ef-9cd1-a50185712e78",
   "metadata": {},
   "source": [
    "Q3. What is App routing in Flask? Why do we use app routes?"
   ]
  },
  {
   "cell_type": "code",
   "execution_count": null,
   "id": "a17b5271-61a9-4218-903d-13413e56c878",
   "metadata": {},
   "outputs": [],
   "source": [
    "'''App routing is the technique used to map the specific URL with the associated function intended to perform some task.\n",
    "The Latest Web frameworks use the routing technique to help users remember application URLs. \n",
    "It is helpful to access the desired page directly without navigating from the home page.'''"
   ]
  },
  {
   "cell_type": "markdown",
   "id": "31791bd4-79e5-457a-8491-6010b18e37f7",
   "metadata": {},
   "source": [
    "Q4. Create a “/welcome” route to display the welcome message “Welcome to ABC Corporation” and a “/”\n",
    "route to show the following details:\n",
    "\n",
    "Company Name: ABC Corporation\n",
    "\n",
    "Location: India\n",
    "\n",
    "Contact Detail: 999-999-9999"
   ]
  },
  {
   "cell_type": "code",
   "execution_count": null,
   "id": "00e0ec87-bfae-4f4f-a442-9f358e344636",
   "metadata": {},
   "outputs": [],
   "source": [
    "from flask import Flask\n",
    "\n",
    "app = Flask(__name__)\n",
    "\n",
    "@app.route(\"/welcome\")\n",
    "def hello_world():\n",
    "    return \"<h1>Welcome to ABC corporation </h1>\"\n",
    "\n",
    "@app.route(\"/\")\n",
    "def hello_world():\n",
    "    return \"<h1>Company Name: ABC Corporation</h1>\"\n",
    "    return \"<h1>Location: India</h1>\"\n",
    "    return  \"<h1>Contact Detail: 999-999-9999</h1>\"\n",
    "\n",
    "if __name__==\"__main__\":\n",
    "    app.run(host=\"0.0.0.0\")\n",
    "    \n",
    "    \n"
   ]
  },
  {
   "cell_type": "markdown",
   "id": "bbdd2518-a1d7-4c3e-a0ec-2fd28ec92e41",
   "metadata": {},
   "source": [
    "Q5. What function is used in Flask for URL Building? Write a Python code to demonstrate the working of the\n",
    "url_for() function."
   ]
  },
  {
   "cell_type": "code",
   "execution_count": null,
   "id": "31cb4257-2ffb-45e1-8ab1-ebd4d90843b2",
   "metadata": {},
   "outputs": [],
   "source": [
    "'''Flask url_for() method\n",
    "The url_for() method, is used to prepare a URL, for a function dynamically, such that, changing URLs, in the application, is avoided.\n",
    "It accepts, the name of the view function, as the first argument, and, any number of keywords, to be sent(to the view function), \n",
    "as the second argument.'''"
   ]
  }
 ],
 "metadata": {
  "kernelspec": {
   "display_name": "Python 3 (ipykernel)",
   "language": "python",
   "name": "python3"
  },
  "language_info": {
   "codemirror_mode": {
    "name": "ipython",
    "version": 3
   },
   "file_extension": ".py",
   "mimetype": "text/x-python",
   "name": "python",
   "nbconvert_exporter": "python",
   "pygments_lexer": "ipython3",
   "version": "3.10.8"
  }
 },
 "nbformat": 4,
 "nbformat_minor": 5
}
