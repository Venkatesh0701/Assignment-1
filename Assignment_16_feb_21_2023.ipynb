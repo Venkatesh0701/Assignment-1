{
 "cells": [
  {
   "cell_type": "markdown",
   "id": "c4ca7656-33e4-47ea-8f90-692b6d3e482a",
   "metadata": {},
   "source": [
    "Q1. What is Web Scraping? Why is it Used? Give three areas where Web Scraping is used to get data.\n"
   ]
  },
  {
   "cell_type": "code",
   "execution_count": null,
   "id": "67e8d2f7-b3ce-4a93-acef-62c8dc37d341",
   "metadata": {},
   "outputs": [],
   "source": [
    "'''Also known as web data extraction and web harvesting, web scraping is the process of extracting data from a website. While you can do this manually, when projects require extracted data from hundreds or even thousands of web pages, automated web scraping tools can do the job more quickly and efficiently. \n",
    "\n",
    "Web scraping tools collect and export extracted data for in-depth analysis, typically into a central local database, spreadsheet, or API. \n",
    "\n",
    "Web scraping software may access the internet either through HTTP or a web browser, with the web crawler and web scraper working together to extract specific data from the web pages. We’ll discuss web crawlers and web scrapers in greater detail later in this article.\n",
    "\n",
    "Before data extraction can take place, it must fetch the webpage. Fetching refers to the process of downloading a web page. The browser does this every time a user visits a web page. The web page’s content is then parsed (i.e., analyzed for syntax), reformatted, or searched, with the extracted data then loaded into a database or copied into a spreadsheet.'''"
   ]
  },
  {
   "cell_type": "code",
   "execution_count": null,
   "id": "25118e92-256d-4593-8931-d80ee90b8b05",
   "metadata": {},
   "outputs": [],
   "source": [
    "'''Data scraping has numerous applications across many industries—including insurance, banking, finance, trading, eCommerce, sports, and\n",
    "digital marketing. Data is also used to inform decision-making, generate leads and sales, manage risks, guide strategies, and create new products and services.'''"
   ]
  },
  {
   "cell_type": "code",
   "execution_count": null,
   "id": "1a377a85-d838-4d3a-81e8-eef0db7d6e3a",
   "metadata": {},
   "outputs": [],
   "source": [
    "'''1. Price Monitoring\n",
    "   2. Market Research\n",
    "   3. News Monitoring'''"
   ]
  },
  {
   "cell_type": "markdown",
   "id": "c9b19039-7925-4ac9-b3ea-723b02f2e926",
   "metadata": {},
   "source": [
    "Q2. What are the different methods used for Web Scraping?\n"
   ]
  },
  {
   "cell_type": "code",
   "execution_count": null,
   "id": "06defc2e-7225-4faf-8395-48484da95521",
   "metadata": {},
   "outputs": [],
   "source": [
    "'''HTML Parsing. HTML parsing involves the use of JavaScript to target a linear or nested HTML page. \n",
    "DOM Parsing. \n",
    "Vertical Aggregation. \n",
    "XPath. \n",
    "Google Sheets. \n",
    "Rate Limit User Requests. \n",
    "Mitigate High-Volume Requesters with CAPTCHAs. \n",
    "Regularly Modify HTML Markup.'''"
   ]
  },
  {
   "cell_type": "markdown",
   "id": "e59f2338-52e1-4d00-86a4-ce6c5e01c95f",
   "metadata": {},
   "source": [
    "Q3. What is Beautiful Soup? Why is it used?\n"
   ]
  },
  {
   "cell_type": "code",
   "execution_count": null,
   "id": "cd9bc503-198c-43f4-808e-0ccad415c12f",
   "metadata": {},
   "outputs": [],
   "source": [
    "'''Beautiful Soup is a Python package for parsing HTML and XML documents (including having malformed markup, i.e. non-closed tags,\n",
    "so named after tag soup). It creates a parse tree for parsed pages that can be used to extract data from HTML, which is useful for web scraping.'''"
   ]
  },
  {
   "cell_type": "markdown",
   "id": "8e7f452e-0f5b-42fb-8577-fd82c11e67ca",
   "metadata": {},
   "source": [
    "Q4. Why is flask used in this Web Scraping project?\n"
   ]
  },
  {
   "cell_type": "code",
   "execution_count": null,
   "id": "fadd8750-4851-4a8b-b022-dda0db6f7576",
   "metadata": {},
   "outputs": [],
   "source": [
    "'''Flask is a lightweight framework to build websites. We'll use this to parse our collected data and display it as HTML in a new HTML file. \n",
    "The requests module allows us to send http requests to the website we want to scrape. \n",
    "The first line imports the Flask class and the render_template method from the flask library.'''\n"
   ]
  },
  {
   "cell_type": "markdown",
   "id": "dd68a68e-a4a7-4307-bb9a-7769682f372f",
   "metadata": {},
   "source": [
    "Q5. Write the names of AWS services used in this project. Also, explain the use of each service."
   ]
  },
  {
   "cell_type": "code",
   "execution_count": null,
   "id": "b11f2b2f-55f0-457c-8163-06ece4d11d4c",
   "metadata": {},
   "outputs": [],
   "source": [
    "'''"
   ]
  }
 ],
 "metadata": {
  "kernelspec": {
   "display_name": "Python 3 (ipykernel)",
   "language": "python",
   "name": "python3"
  },
  "language_info": {
   "codemirror_mode": {
    "name": "ipython",
    "version": 3
   },
   "file_extension": ".py",
   "mimetype": "text/x-python",
   "name": "python",
   "nbconvert_exporter": "python",
   "pygments_lexer": "ipython3",
   "version": "3.10.8"
  }
 },
 "nbformat": 4,
 "nbformat_minor": 5
}
