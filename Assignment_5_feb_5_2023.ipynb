{
 "cells": [
  {
   "cell_type": "markdown",
   "id": "88bbb1f2-83f2-4440-a28d-cda853700ec4",
   "metadata": {},
   "source": [
    "Q1. Explain Class and Object with respect to Object-Oriented Programming. Give a suitable example."
   ]
  },
  {
   "cell_type": "code",
   "execution_count": 4,
   "id": "06f7b721-95cc-4cc5-a238-d973f19992c2",
   "metadata": {},
   "outputs": [],
   "source": [
    "#class is like blue print for object. class is collection of different data members and member function.\n",
    "#object is instances of the class.object is used to access the property of the class.\n",
    "#Examaple:\n",
    "class pwskills:\n",
    "    def __init__(self,name,email):\n",
    "        self.name=name\n",
    "        self.email=email\n",
    "        \n",
    "    def student_details(self):\n",
    "        print(self.name,self.email)"
   ]
  },
  {
   "cell_type": "code",
   "execution_count": 5,
   "id": "a83a0611-ad40-464d-b1c8-65096b7eaccc",
   "metadata": {},
   "outputs": [],
   "source": [
    "pw= pwskills(\"venkatesh\",\"venkatesh@com\")"
   ]
  },
  {
   "cell_type": "code",
   "execution_count": 6,
   "id": "dbdc0861-a1eb-48d3-aec1-1c8213dd24d5",
   "metadata": {},
   "outputs": [
    {
     "data": {
      "text/plain": [
       "'venkatesh'"
      ]
     },
     "execution_count": 6,
     "metadata": {},
     "output_type": "execute_result"
    }
   ],
   "source": [
    "pw.name"
   ]
  },
  {
   "cell_type": "markdown",
   "id": "3c545fb6-bf2d-4ffb-9ebf-26acb988b028",
   "metadata": {},
   "source": [
    "Q2. Name the four pillars of OOPs."
   ]
  },
  {
   "cell_type": "code",
   "execution_count": 7,
   "id": "46727d24-db4f-47c0-b923-1ce0d9b794af",
   "metadata": {},
   "outputs": [],
   "source": [
    "#inheritance,abstraction,encapsulation,polymorphism"
   ]
  },
  {
   "cell_type": "markdown",
   "id": "6ba6ea10-2b8e-485d-9829-dea8dfc6db06",
   "metadata": {},
   "source": [
    "Q3. Explain why the __init__() function is used. Give a suitable example."
   ]
  },
  {
   "cell_type": "code",
   "execution_count": 11,
   "id": "4c6f0dec-9aa6-4aef-8761-2440b338bd75",
   "metadata": {},
   "outputs": [],
   "source": [
    "#The __init__ function is called a constructor, or initializer, and is automatically called when you create a new instance of a class.\n",
    "class pwskills1:\n",
    "    def __init__(self,name,email):\n",
    "        self.name=name\n",
    "        self.email=email\n",
    "        \n",
    "    @classmethod  \n",
    "    def details(cls,name,email):\n",
    "        return cls(name,email)\n",
    "        \n",
    "    def student_details(self):\n",
    "        print(self.name,self.email)"
   ]
  },
  {
   "cell_type": "code",
   "execution_count": 9,
   "id": "0d08b7fa-c26f-468f-96e9-37b7b0dcddbc",
   "metadata": {},
   "outputs": [],
   "source": [
    "pw1=pwskills1.details(\"sanket\",\"sudh@gmail.com\")"
   ]
  },
  {
   "cell_type": "code",
   "execution_count": 10,
   "id": "e459fa08-f6fa-4a50-a61e-bd8ace196f5b",
   "metadata": {},
   "outputs": [
    {
     "data": {
      "text/plain": [
       "'sanket'"
      ]
     },
     "execution_count": 10,
     "metadata": {},
     "output_type": "execute_result"
    }
   ],
   "source": [
    "pw1.name"
   ]
  },
  {
   "cell_type": "markdown",
   "id": "690fc257-c56d-490a-b8a1-e643e7a3be3d",
   "metadata": {},
   "source": [
    "Q4. Why self is used in OOPs?"
   ]
  },
  {
   "cell_type": "code",
   "execution_count": 36,
   "id": "5c7edff3-d2c7-4faf-bb50-97f881756d60",
   "metadata": {},
   "outputs": [],
   "source": [
    "'''In object-oriented programming, whenever we define methods for a class, we use self as the first parameter in each case. \n",
    "Let's look at the definition of a class called Cat.'''\n",
    "class Cat: \n",
    "        def __init__(self, name, age): \n",
    "            self.name = name \n",
    "            self.age = age\n",
    "        def info(self):\n",
    "             print(\" My name is self.name\")"
   ]
  },
  {
   "cell_type": "code",
   "execution_count": 37,
   "id": "2ccff723-dbe8-47cc-a626-f26dd3de4c93",
   "metadata": {},
   "outputs": [
    {
     "name": "stdout",
     "output_type": "stream",
     "text": [
      " My name is self.name\n"
     ]
    }
   ],
   "source": [
    "C= Cat.info(\"venkatesh\")"
   ]
  },
  {
   "cell_type": "code",
   "execution_count": 30,
   "id": "baed6946-f09e-4d4d-9271-05080d84bd9b",
   "metadata": {},
   "outputs": [],
   "source": [
    "class pwskills2:\n",
    "    \n",
    "    mobile_num=1234343\n",
    "    \n",
    "    def __init__(self,name,email):\n",
    "        self.name=name\n",
    "        self.email=email\n",
    "        \n",
    "    @classmethod   \n",
    "    def change_number(cls,mobile):\n",
    "        pwskills2.mobile_num=mobile\n",
    "        \n",
    "    @classmethod  \n",
    "    def details(cls,name,email):\n",
    "        return cls(name,email)\n",
    "        \n",
    "    def student_details(self):\n",
    "        print(self.name,self.email,pwskills2.mobile_num)"
   ]
  },
  {
   "cell_type": "code",
   "execution_count": 15,
   "id": "214b8b5d-6d8c-4220-8604-9e1a24e431e4",
   "metadata": {},
   "outputs": [],
   "source": [
    "pw= pwskills2.details(\"rohen\",\"rohen@gmail.com\")"
   ]
  },
  {
   "cell_type": "code",
   "execution_count": 16,
   "id": "3e4abdb3-4632-4036-ae10-d5772f45c2e6",
   "metadata": {},
   "outputs": [
    {
     "name": "stdout",
     "output_type": "stream",
     "text": [
      "rohen rohen@gmail.com 1234343\n"
     ]
    }
   ],
   "source": [
    "pw.student_details()"
   ]
  },
  {
   "cell_type": "markdown",
   "id": "ea14aada-d525-476e-b72e-af03948a4eac",
   "metadata": {},
   "source": [
    "Q5. What is inheritance? Give an example for each type of inheritance."
   ]
  },
  {
   "cell_type": "code",
   "execution_count": 17,
   "id": "66746ff0-76c9-438c-b787-06f51c3b58a4",
   "metadata": {},
   "outputs": [],
   "source": [
    "# inheritance means creating new class from the exiting class is called inheritance.\n",
    "class class1:\n",
    "    def test_class1(self):\n",
    "        return \"this is my 1st class\"\n",
    "class class2:\n",
    "    def test_class2(self):\n",
    "        return \"this is my 2nd class\"\n",
    "class class3(class1,class2):\n",
    "    pass\n"
   ]
  },
  {
   "cell_type": "code",
   "execution_count": 18,
   "id": "b548ec57-8c33-4a4a-b58d-d2ebaaf3bd32",
   "metadata": {},
   "outputs": [],
   "source": [
    "obj= class3()"
   ]
  },
  {
   "cell_type": "code",
   "execution_count": 20,
   "id": "981d8462-97c3-4613-82aa-57e66aaacab7",
   "metadata": {},
   "outputs": [
    {
     "data": {
      "text/plain": [
       "'this is my 1st class'"
      ]
     },
     "execution_count": 20,
     "metadata": {},
     "output_type": "execute_result"
    }
   ],
   "source": [
    "obj.test_class1()"
   ]
  },
  {
   "cell_type": "code",
   "execution_count": 21,
   "id": "3c4fa8cc-b5c5-4b7a-8bac-ec323dc437af",
   "metadata": {},
   "outputs": [
    {
     "data": {
      "text/plain": [
       "'this is my 2nd class'"
      ]
     },
     "execution_count": 21,
     "metadata": {},
     "output_type": "execute_result"
    }
   ],
   "source": [
    "obj.test_class2()"
   ]
  }
 ],
 "metadata": {
  "kernelspec": {
   "display_name": "Python 3 (ipykernel)",
   "language": "python",
   "name": "python3"
  },
  "language_info": {
   "codemirror_mode": {
    "name": "ipython",
    "version": 3
   },
   "file_extension": ".py",
   "mimetype": "text/x-python",
   "name": "python",
   "nbconvert_exporter": "python",
   "pygments_lexer": "ipython3",
   "version": "3.10.8"
  }
 },
 "nbformat": 4,
 "nbformat_minor": 5
}
