{
 "cells": [
  {
   "cell_type": "markdown",
   "id": "577449aa-8a34-4e1c-8cea-fad080ebdfc2",
   "metadata": {},
   "source": [
    "Q1.what is exception in python? what is difference between exception and syntax error."
   ]
  },
  {
   "cell_type": "code",
   "execution_count": null,
   "id": "b553f523-f444-4a4f-be28-5f3fbeb1e97e",
   "metadata": {},
   "outputs": [],
   "source": [
    "#an exception is a condition that interrupts the normal flow of the program.\n",
    "\n",
    "'''A syntax error occurs when the structure of a program does not conform to the rules of the programming language. \n",
    "Syntax errors are usually detected by the compiler or interpreter when the program is being compiled or executed, and they prevent the program from running.\n",
    "Syntax errors are usually caused by mistakes in the source code, such as typos, omissions, or incorrect use of syntax.'''\n",
    "\n",
    "'''An exception is an abnormal event that occurs during the execution of a program.\n",
    "Exceptions are usually caused by runtime errors, such as dividing by zero, trying to access an element in an array with an out-of-bounds index, or trying to access a file that does not exist.\n",
    "Exceptions are not syntax errors, but they can still prevent the program from running if they are not handled properly.'''"
   ]
  },
  {
   "cell_type": "markdown",
   "id": "ccccfc43-234f-46f2-9522-b39775dc76dd",
   "metadata": {},
   "source": [
    "Q2.what happens when exception is not handle? explain with example?"
   ]
  },
  {
   "cell_type": "code",
   "execution_count": 1,
   "id": "ee48f8e3-e3cc-4833-b644-87fd9b9cd420",
   "metadata": {},
   "outputs": [
    {
     "name": "stdout",
     "output_type": "stream",
     "text": [
      "division by zero\n"
     ]
    }
   ],
   "source": [
    "'''when syntactically correct code runs into an error, Python will throw an exception error. \n",
    "This exception error will crash the program if it is unhandled.'''\n",
    "try:\n",
    "    10/0\n",
    "except Exception as e:\n",
    "    print(e)"
   ]
  },
  {
   "cell_type": "markdown",
   "id": "cee92231-7a48-49f7-8521-46ad2439eced",
   "metadata": {},
   "source": [
    "Q3.which python statement are used to catch and handle an exceptions? explain with an example."
   ]
  },
  {
   "cell_type": "code",
   "execution_count": 2,
   "id": "5bbbb04b-dc4a-481c-ac4f-6021b4e9877d",
   "metadata": {},
   "outputs": [
    {
     "name": "stdout",
     "output_type": "stream",
     "text": [
      "I am trying to handle a zerodivision error\n"
     ]
    }
   ],
   "source": [
    "'''The try and except block in Python is used to catch and handle exceptions.\n",
    "Python executes code following the try statement as a “normal” part of the program.\n",
    "The code that follows the except statement is the program's response to any exceptions in the preceding try clause.'''\n",
    "try:\n",
    "    10/0\n",
    "except ZeroDivisionError as e:\n",
    "    print(\"I am trying to handle a zerodivision error\")"
   ]
  },
  {
   "cell_type": "markdown",
   "id": "0780af11-1258-47c3-b560-974b0f40cad7",
   "metadata": {},
   "source": [
    "Q.4 expalin with an example\n",
    "   a.try and finally\n",
    "   b.finally\n",
    "   c.raise"
   ]
  },
  {
   "cell_type": "code",
   "execution_count": 3,
   "id": "7750fb22-0b56-41b9-a586-09b6bfd5484d",
   "metadata": {},
   "outputs": [
    {
     "name": "stdout",
     "output_type": "stream",
     "text": [
      "this will be executed once your try will execute without error\n",
      "this block is always executed\n"
     ]
    }
   ],
   "source": [
    "try:\n",
    "    f=open(\"test.txt\",'w')\n",
    "    f.write(\"write into my file\")\n",
    "    \n",
    "except Exception as e:\n",
    "    print(\"this is my expect block\",e)\n",
    "else:\n",
    "    f.close()\n",
    "    print(\"this will be executed once your try will execute without error\")\n",
    "finally:\n",
    "    print(\"this block is always executed\")"
   ]
  },
  {
   "cell_type": "markdown",
   "id": "c9bd21d4-29b1-42a4-b4be-3d007efb1f46",
   "metadata": {},
   "source": [
    "Q.5 what are custom exception in python? why do we need custom exception ?expalin with example?"
   ]
  },
  {
   "cell_type": "code",
   "execution_count": 4,
   "id": "ab77f20f-dcf1-4d69-bf5c-150a6c840ab6",
   "metadata": {},
   "outputs": [],
   "source": [
    "'''Built-in exceptions offer information about Python-related problems, and custom exceptions will add information about project-related problems.\n",
    "That way, you can design your code (and traceback, if an exception is raised) in a way that combines Python code with the language of the project'''\n",
    "def validateage(age):\n",
    "    if age < 0:\n",
    "        raise validateage(\"entered age is negative\")\n",
    "    elif age>200:\n",
    "        raise validateage(\"entered age is very very high\")\n",
    "    else:\n",
    "        print(\"age is valid\")"
   ]
  },
  {
   "cell_type": "code",
   "execution_count": 5,
   "id": "da57fb95-1608-4af1-b742-6efb83385a25",
   "metadata": {},
   "outputs": [
    {
     "name": "stdin",
     "output_type": "stream",
     "text": [
      "enter your age 34\n"
     ]
    },
    {
     "name": "stdout",
     "output_type": "stream",
     "text": [
      "age is valid\n"
     ]
    }
   ],
   "source": [
    "try:\n",
    "    age=int(input(\"enter your age\"))\n",
    "    validateage(age)\n",
    "except validateage as e:\n",
    "    print(e)\n",
    "    "
   ]
  },
  {
   "cell_type": "markdown",
   "id": "1cd6cf3f-ade6-4827-91a8-8c45b8f719a9",
   "metadata": {},
   "source": [
    "Q.6 create custom exception class.use this class to handle an exception?"
   ]
  },
  {
   "cell_type": "code",
   "execution_count": 6,
   "id": "b06fc281-9e56-48d3-bf00-12cd9c7de861",
   "metadata": {},
   "outputs": [],
   "source": [
    "class validateage(Exception):\n",
    "    def __init__(self,age):\n",
    "        self.msg=msg"
   ]
  },
  {
   "cell_type": "code",
   "execution_count": null,
   "id": "f548a5ce-aecf-4f3c-b03f-80258839cffc",
   "metadata": {},
   "outputs": [],
   "source": []
  }
 ],
 "metadata": {
  "kernelspec": {
   "display_name": "Python 3 (ipykernel)",
   "language": "python",
   "name": "python3"
  },
  "language_info": {
   "codemirror_mode": {
    "name": "ipython",
    "version": 3
   },
   "file_extension": ".py",
   "mimetype": "text/x-python",
   "name": "python",
   "nbconvert_exporter": "python",
   "pygments_lexer": "ipython3",
   "version": "3.10.8"
  }
 },
 "nbformat": 4,
 "nbformat_minor": 5
}
