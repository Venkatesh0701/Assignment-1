{
 "cells": [
  {
   "cell_type": "markdown",
   "id": "f796d3ff-0fea-4fff-af48-6aac5c2339cf",
   "metadata": {},
   "source": [
    "Q1. What is Abstraction in OOps? Explain with an example."
   ]
  },
  {
   "cell_type": "code",
   "execution_count": 7,
   "id": "054488f3-054c-4565-8520-574dab9b05ff",
   "metadata": {},
   "outputs": [
    {
     "ename": "SyntaxError",
     "evalue": "incomplete input (250153780.py, line 5)",
     "output_type": "error",
     "traceback": [
      "\u001b[0;36m  Cell \u001b[0;32mIn[11], line 5\u001b[0;36m\u001b[0m\n\u001b[0;31m    \u001b[0m\n\u001b[0m    ^\u001b[0m\n\u001b[0;31mSyntaxError\u001b[0m\u001b[0;31m:\u001b[0m incomplete input\n"
     ]
    }
   ],
   "source": [
    "# Abstraction is one of the core concepts of Object-Oriented Programming. Abstraction defines a model to create an application component. \n",
    "import abc\n",
    "class pwskills:\n",
    "    \n",
    "    @abc.abstractmethod\n",
    "    def student_details(self):\n",
    "        pass\n"
   ]
  },
  {
   "cell_type": "code",
   "execution_count": 8,
   "id": "b4da59fc-e261-46a7-9488-34373d73265b",
   "metadata": {},
   "outputs": [],
   "source": [
    "class data_science_master(pwskills):\n",
    "    def student_details(self):\n",
    "        return \"this will return a student details for data science master:\"\n",
    "    \n",
    "    def student(self):\n",
    "        return \" this will give u data science master:\"\n",
    "        "
   ]
  },
  {
   "cell_type": "code",
   "execution_count": 9,
   "id": "20aedb36-bb0c-4438-b958-76e923bcc75e",
   "metadata": {},
   "outputs": [],
   "source": [
    "obj=data_science_master()"
   ]
  },
  {
   "cell_type": "code",
   "execution_count": 10,
   "id": "f86f73df-caff-40bb-bed6-a678158653e3",
   "metadata": {},
   "outputs": [
    {
     "data": {
      "text/plain": [
       "'this will return a student details for data science master:'"
      ]
     },
     "execution_count": 10,
     "metadata": {},
     "output_type": "execute_result"
    }
   ],
   "source": [
    "obj.student_details()"
   ]
  },
  {
   "cell_type": "code",
   "execution_count": 12,
   "id": "def408e5-7c80-499c-bd49-a2e7d8c4d73f",
   "metadata": {},
   "outputs": [
    {
     "data": {
      "text/plain": [
       "' this will give u data science master:'"
      ]
     },
     "execution_count": 12,
     "metadata": {},
     "output_type": "execute_result"
    }
   ],
   "source": [
    "obj.student()"
   ]
  },
  {
   "cell_type": "markdown",
   "id": "a5c78d22-9338-400c-ae45-fc3b7d18da00",
   "metadata": {},
   "source": [
    "Q2. Differentiate between Abstraction and Encapsulation. Explain with an example."
   ]
  },
  {
   "cell_type": "code",
   "execution_count": 15,
   "id": "7f8d8ded-aadf-4c26-90f7-136226de2e91",
   "metadata": {},
   "outputs": [],
   "source": [
    "#Abstraction: process of hinding important details from the user is called abstration.\n",
    "#Encapsulation : wrapping up the data and function into single unit is called encapsulation.\n",
    "class test:\n",
    "    def __init__(self,a,b):\n",
    "        self.a=a\n",
    "        self.b=b"
   ]
  },
  {
   "cell_type": "code",
   "execution_count": 16,
   "id": "6adbb638-ceda-4b1c-90ed-3561cc8a2a98",
   "metadata": {},
   "outputs": [],
   "source": [
    "t=test(22,23)"
   ]
  },
  {
   "cell_type": "code",
   "execution_count": 17,
   "id": "13c9fbf7-2756-4d6b-a07e-3acf82511693",
   "metadata": {},
   "outputs": [],
   "source": [
    "t.a=234545"
   ]
  },
  {
   "cell_type": "code",
   "execution_count": 18,
   "id": "71ee9981-f680-4b0d-a14f-58188f355046",
   "metadata": {},
   "outputs": [
    {
     "data": {
      "text/plain": [
       "234545"
      ]
     },
     "execution_count": 18,
     "metadata": {},
     "output_type": "execute_result"
    }
   ],
   "source": [
    "t.a"
   ]
  },
  {
   "cell_type": "markdown",
   "id": "b32c8cf2-edf0-4a79-9eb2-24afb99e7d84",
   "metadata": {},
   "source": [
    "Q3. What is abc module in python? Why is it used?"
   ]
  },
  {
   "cell_type": "code",
   "execution_count": 19,
   "id": "a9486d55-c584-4a18-9275-bbd48795a851",
   "metadata": {},
   "outputs": [],
   "source": [
    "# Python has a module called abc (abstract base class) that offers the necessary tools for crafting an abstract base class.\n",
    "import abc\n",
    "class pwskills:\n",
    "    \n",
    "    @abc.abstractmethod\n",
    "    def student_details(self):\n",
    "        pass"
   ]
  },
  {
   "cell_type": "code",
   "execution_count": 20,
   "id": "96dbc723-4e0e-4247-a3be-1a61a48c0600",
   "metadata": {},
   "outputs": [],
   "source": [
    "class student_details(pwskills):\n",
    "    def student_details(self):\n",
    "        return \"this is method for taking student details:\"\n",
    "    \n",
    "    def student_assignment(self):\n",
    "        return \"this is method for assign details for a particular student:\"\n",
    "    \n",
    "    "
   ]
  },
  {
   "cell_type": "code",
   "execution_count": 21,
   "id": "2b894bf5-fba7-4fe2-a0e1-13efd756204c",
   "metadata": {},
   "outputs": [],
   "source": [
    "obj=data_science_master()"
   ]
  },
  {
   "cell_type": "code",
   "execution_count": 22,
   "id": "561969b1-eee7-43ad-9c77-b342f6d94cdd",
   "metadata": {},
   "outputs": [
    {
     "data": {
      "text/plain": [
       "'this will return a student details for data science master:'"
      ]
     },
     "execution_count": 22,
     "metadata": {},
     "output_type": "execute_result"
    }
   ],
   "source": [
    "obj.student_details()"
   ]
  },
  {
   "cell_type": "markdown",
   "id": "9f7b59b3-a814-4f57-9b28-cb6d6a9343c0",
   "metadata": {},
   "source": [
    "Q4. How can we achieve data abstraction?\n",
    "\n"
   ]
  },
  {
   "cell_type": "code",
   "execution_count": null,
   "id": "1cdddc32-28a6-477a-b666-f9b84fd04094",
   "metadata": {},
   "outputs": [],
   "source": [
    "#Data Abstraction in Python can be achieved through creating abstract classes and inheriting them later. \n"
   ]
  },
  {
   "cell_type": "markdown",
   "id": "a4827d35-f2dd-47aa-ab8c-75c6d8c78cb1",
   "metadata": {},
   "source": [
    "Q5. Can we create an instance of an abstract class? Explain your answer."
   ]
  },
  {
   "cell_type": "code",
   "execution_count": null,
   "id": "8b5cfdf1-574b-40b3-9d83-c13a86dcf878",
   "metadata": {},
   "outputs": [],
   "source": [
    "'''An abstract class can be considered as a blueprint for other classes. \n",
    "It allows you to create a set of methods that must be created within any child classes built from the abstract class.'''"
   ]
  }
 ],
 "metadata": {
  "kernelspec": {
   "display_name": "Python 3 (ipykernel)",
   "language": "python",
   "name": "python3"
  },
  "language_info": {
   "codemirror_mode": {
    "name": "ipython",
    "version": 3
   },
   "file_extension": ".py",
   "mimetype": "text/x-python",
   "name": "python",
   "nbconvert_exporter": "python",
   "pygments_lexer": "ipython3",
   "version": "3.10.8"
  }
 },
 "nbformat": 4,
 "nbformat_minor": 5
}
